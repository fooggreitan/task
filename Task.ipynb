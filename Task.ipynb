{
  "metadata": {
    "kernelspec": {
      "name": "python",
      "display_name": "Python (Pyodide)",
      "language": "python"
    },
    "language_info": {
      "codemirror_mode": {
        "name": "python",
        "version": 3
      },
      "file_extension": ".py",
      "mimetype": "text/x-python",
      "name": "python",
      "nbconvert_exporter": "python",
      "pygments_lexer": "ipython3",
      "version": "3.8"
    }
  },
  "nbformat_minor": 4,
  "nbformat": 4,
  "cells": [
    {
      "cell_type": "markdown",
      "source": "**Комментарии**",
      "metadata": {}
    },
    {
      "cell_type": "code",
      "source": "# это первый комментарий\nspam =1 # а это второй комментарий \n# ...а сейчас третий!\n\n# Поставить комментарий можно нажатием CTRL + /",
      "metadata": {},
      "outputs": [],
      "execution_count": null
    },
    {
      "cell_type": "markdown",
      "source": "**Вывод данных**",
      "metadata": {}
    },
    {
      "cell_type": "code",
      "source": "x = 42 # x - целое число (int)\nname = \"John\" # name — строка (str)\ndata = [1, 2, 3] # data — список (list)",
      "metadata": {
        "trusted": true
      },
      "outputs": [],
      "execution_count": null
    },
    {
      "cell_type": "code",
      "source": "print(\"Всем привет: \") \nprint(\"A\", \"в\", \"C\") \nprint(\"A\", \"B\", \"C\", sep=\"!\")",
      "metadata": {
        "trusted": true
      },
      "outputs": [
        {
          "name": "stdout",
          "text": "Всем привет: \nA в C\nA!B!C\n",
          "output_type": "stream"
        }
      ],
      "execution_count": 105
    },
    {
      "cell_type": "code",
      "source": "print('Ipam eggs')\nprint('\"Yes,\" he said.')",
      "metadata": {
        "trusted": true
      },
      "outputs": [
        {
          "name": "stdout",
          "text": "Ipam eggs\n\"Yes,\" he said.\n",
          "output_type": "stream"
        }
      ],
      "execution_count": 106
    },
    {
      "cell_type": "markdown",
      "source": "**Числа**",
      "metadata": {}
    },
    {
      "cell_type": "markdown",
      "source": "Целые числа (например, 2, 4, 20) имеют тип int, те, что с дробной частью, (e.g. 5.0, 1.6) имеют тип float.\n\nДеление (/) в третьем питоне всегда возвращает float (во втором питоне деление целого числа на целое даёт целочисленное деление).\n\n// - оператор для целочисленного деления (без дробной части);\n\n% - расчет остатка от деления;",
      "metadata": {}
    },
    {
      "cell_type": "code",
      "source": "2+2",
      "metadata": {
        "trusted": true
      },
      "outputs": [
        {
          "execution_count": 109,
          "output_type": "execute_result",
          "data": {
            "text/plain": "4"
          },
          "metadata": {}
        }
      ],
      "execution_count": 109
    },
    {
      "cell_type": "code",
      "source": "17 // 3",
      "metadata": {
        "trusted": true
      },
      "outputs": [
        {
          "execution_count": 110,
          "output_type": "execute_result",
          "data": {
            "text/plain": "5"
          },
          "metadata": {}
        }
      ],
      "execution_count": 110
    },
    {
      "cell_type": "code",
      "source": "2-2",
      "metadata": {
        "trusted": true
      },
      "outputs": [
        {
          "execution_count": 111,
          "output_type": "execute_result",
          "data": {
            "text/plain": "0"
          },
          "metadata": {}
        }
      ],
      "execution_count": 111
    },
    {
      "cell_type": "code",
      "source": "2*6",
      "metadata": {
        "trusted": true
      },
      "outputs": [
        {
          "execution_count": 112,
          "output_type": "execute_result",
          "data": {
            "text/plain": "12"
          },
          "metadata": {}
        }
      ],
      "execution_count": 112
    },
    {
      "cell_type": "code",
      "source": "8 / 5",
      "metadata": {
        "trusted": true
      },
      "outputs": [
        {
          "execution_count": 113,
          "output_type": "execute_result",
          "data": {
            "text/plain": "1.6"
          },
          "metadata": {}
        }
      ],
      "execution_count": 113
    },
    {
      "cell_type": "code",
      "source": "5 ** 2",
      "metadata": {
        "trusted": true
      },
      "outputs": [
        {
          "execution_count": 116,
          "output_type": "execute_result",
          "data": {
            "text/plain": "25"
          },
          "metadata": {}
        }
      ],
      "execution_count": 116
    },
    {
      "cell_type": "code",
      "source": "17 % 3",
      "metadata": {
        "trusted": true
      },
      "outputs": [
        {
          "execution_count": 115,
          "output_type": "execute_result",
          "data": {
            "text/plain": "2"
          },
          "metadata": {}
        }
      ],
      "execution_count": 115
    },
    {
      "cell_type": "markdown",
      "source": "Знак равенства (=) используется для присвоения значения переменной.",
      "metadata": {}
    },
    {
      "cell_type": "code",
      "source": "width = 20\nheight = 30\nS = width * height\nS",
      "metadata": {
        "trusted": true
      },
      "outputs": [
        {
          "execution_count": 114,
          "output_type": "execute_result",
          "data": {
            "text/plain": "600"
          },
          "metadata": {}
        }
      ],
      "execution_count": 114
    },
    {
      "cell_type": "markdown",
      "source": "Присутствует полная поддержка операций с плавающей точкой;\nОперации над операндами смешанного типа конвертируют целочисленный операнд в число с плавающей запятой:",
      "metadata": {}
    },
    {
      "cell_type": "code",
      "source": "3 * 3.75 / 1.5",
      "metadata": {
        "trusted": true
      },
      "outputs": [
        {
          "execution_count": 117,
          "output_type": "execute_result",
          "data": {
            "text/plain": "7.5"
          },
          "metadata": {}
        }
      ],
      "execution_count": 117
    },
    {
      "cell_type": "markdown",
      "source": "**Строки**",
      "metadata": {}
    },
    {
      "cell_type": "code",
      "source": "3 * 'un' + 'ium' # Конкатенация - операция соединения нескольких строк символов в одну",
      "metadata": {
        "trusted": true
      },
      "outputs": [
        {
          "execution_count": 1,
          "output_type": "execute_result",
          "data": {
            "text/plain": "'unununium'"
          },
          "metadata": {}
        }
      ],
      "execution_count": 1
    },
    {
      "cell_type": "code",
      "source": "a = 'Vasya'",
      "metadata": {
        "trusted": true
      },
      "outputs": [],
      "execution_count": 121
    },
    {
      "cell_type": "code",
      "source": "print('Hello, {}, {}!'.format(a, 'Kostya')) \nprint('{0}, {2}, {1}'.format('a', 'b', 'с'))",
      "metadata": {
        "trusted": true
      },
      "outputs": [
        {
          "name": "stdout",
          "text": "Hello, Vasya, Kostya!\na, с, b\n",
          "output_type": "stream"
        }
      ],
      "execution_count": 125
    },
    {
      "cell_type": "markdown",
      "source": "**Условные операторы**",
      "metadata": {}
    },
    {
      "cell_type": "code",
      "source": "a = 1\nif a > 2: print(\"H\")\nelse: print(\"L\")",
      "metadata": {
        "trusted": true
      },
      "outputs": [
        {
          "name": "stdout",
          "text": "L\n",
          "output_type": "stream"
        }
      ],
      "execution_count": 128
    },
    {
      "cell_type": "code",
      "source": "a = int(5) \nif a < 0: print(\"Neg\")\nelif a == 0: print(\"Zero\")\nelse: print(\"Pos\")",
      "metadata": {
        "trusted": true
      },
      "outputs": [
        {
          "name": "stdout",
          "text": "Pos\n",
          "output_type": "stream"
        }
      ],
      "execution_count": 1
    },
    {
      "cell_type": "markdown",
      "source": "**Операторы циклы**",
      "metadata": {}
    },
    {
      "cell_type": "markdown",
      "source": "Оператор цикла while выполняет указанный набор инструкций до тех пор, пока условие цикла истинно.",
      "metadata": {}
    },
    {
      "cell_type": "code",
      "source": "a = 0\nwhile a < 3:\n    print(a)\n    a += 1",
      "metadata": {
        "trusted": true
      },
      "outputs": [],
      "execution_count": null
    },
    {
      "cell_type": "markdown",
      "source": "Оператор **break** предназначен для досрочного прерывания работы цикла while.",
      "metadata": {}
    },
    {
      "cell_type": "code",
      "source": "a = 0\nwhile a>=0:\n    if a == 3:\n        break\n    a += 1\n    print(a)",
      "metadata": {
        "trusted": true
      },
      "outputs": [],
      "execution_count": null
    },
    {
      "cell_type": "markdown",
      "source": "Оператор **continue** запускает цикл заново, при этом код, расположенный после данного оператора, не выполняется.",
      "metadata": {}
    },
    {
      "cell_type": "code",
      "source": "a = -1\nwhile a < 10:\n    a +=1\n    if a >= 7:\n        continue\n    print(\"A\")",
      "metadata": {},
      "outputs": [
        {
          "name": "stdout",
          "text": "A\nA\nA\nA\nA\nA\nA\n",
          "output_type": "stream"
        }
      ],
      "execution_count": null
    },
    {
      "cell_type": "code",
      "source": "h = 0\nwhile h< 10:\n    h +=1\n    print(h)",
      "metadata": {
        "trusted": true
      },
      "outputs": [],
      "execution_count": null
    },
    {
      "cell_type": "code",
      "source": "a = -1\nwhile a < 10:\n    a +=1\n    if a >= 7:\n        continue\n    print(a)",
      "metadata": {
        "trusted": true
      },
      "outputs": [
        {
          "name": "stdout",
          "text": "0\n1\n2\n3\n4\n5\n6\n",
          "output_type": "stream"
        }
      ],
      "execution_count": 6
    },
    {
      "cell_type": "markdown",
      "source": "Оператор **for** выполняет указанный набор инструкций заданное количество раз, которое определяется количеством элемент",
      "metadata": {}
    },
    {
      "cell_type": "code",
      "source": "for i in range(10):\n    print(\"Hello\")\n    print(i)",
      "metadata": {
        "trusted": true
      },
      "outputs": [
        {
          "name": "stdout",
          "text": "Hello\n0\nHello\n1\nHello\n2\nHello\n3\nHello\n4\nHello\n5\nHello\n6\nHello\n7\nHello\n8\nHello\n9\n",
          "output_type": "stream"
        }
      ],
      "execution_count": 7
    },
    {
      "cell_type": "markdown",
      "source": "**Модель данных**",
      "metadata": {}
    },
    {
      "cell_type": "code",
      "source": "a = []\nb = list()\nc = [1,2,3]",
      "metadata": {
        "trusted": true
      },
      "outputs": [],
      "execution_count": null
    },
    {
      "cell_type": "code",
      "source": "a = [1,2,3]\nb = a\nb[2] = 15\na [1] = 10\nprint(a)\nprint(b)",
      "metadata": {
        "trusted": true
      },
      "outputs": [
        {
          "name": "stdout",
          "text": "[1, 10, 15]\n[1, 10, 15]\n",
          "output_type": "stream"
        }
      ],
      "execution_count": null
    },
    {
      "cell_type": "code",
      "source": "li = []\nfor i in range(1,10):\n    li.append(i)\nli",
      "metadata": {
        "trusted": true
      },
      "outputs": [
        {
          "execution_count": 2,
          "output_type": "execute_result",
          "data": {
            "text/plain": "[1, 2, 3, 4, 5, 6, 7, 8, 9]"
          },
          "metadata": {}
        }
      ],
      "execution_count": 2
    },
    {
      "cell_type": "code",
      "source": "a = []\na.append(3)\na.append(3)\na.append('hello')\na",
      "metadata": {
        "trusted": true
      },
      "outputs": [
        {
          "execution_count": 10,
          "output_type": "execute_result",
          "data": {
            "text/plain": "[3, 3, 'hello']"
          },
          "metadata": {}
        }
      ],
      "execution_count": 10
    },
    {
      "cell_type": "code",
      "source": "c = [1,2,3]\nprint(a[2])\nprint(a[-1])\nprint(a[1:2])",
      "metadata": {
        "trusted": true
      },
      "outputs": [
        {
          "name": "stdout",
          "text": "hello\nhello\n[3]\n",
          "output_type": "stream"
        }
      ],
      "execution_count": 15
    },
    {
      "cell_type": "code",
      "source": "#Методы списков\n#Для удобного воспроизведения есть шорткат ctrl+shift+-\na = [1, 2]\na.append(3)\nprint(a)\n\na = [1, 2] \nb = [3, 4]\na.append(b) \nprint(a)\n\na = [1, 2] \nb = [3, 4]\na.extend(b)\nprint(a)",
      "metadata": {
        "trusted": true
      },
      "outputs": [
        {
          "name": "stdout",
          "text": "[1, 2, 3]\n[1, 2, [3, 4]]\n[1, 2, 3, 4]\n",
          "output_type": "stream"
        }
      ],
      "execution_count": 17
    },
    {
      "cell_type": "code",
      "source": "a = [1, 2]\na.insert(0, 5)\nprint(a)",
      "metadata": {
        "trusted": true
      },
      "outputs": [],
      "execution_count": null
    },
    {
      "cell_type": "code",
      "source": "a = [1, 2, 3, 4, 5] \nprint(a.pop(2)) \nprint(a.pop()) \nprint(a)\n\na.clear() \nprint(a)\n\na = [1, 2, 3, 4, 5]\n\na.sort()\nprint(a)\n\na.reverse()\nprint (a)",
      "metadata": {
        "trusted": true
      },
      "outputs": [
        {
          "name": "stdout",
          "text": "3\n5\n[1, 2, 4]\n[]\n[1, 2, 3, 4, 5]\n[5, 4, 3, 2, 1]\n",
          "output_type": "stream"
        }
      ],
      "execution_count": 4
    },
    {
      "cell_type": "code",
      "source": "li = []\nfor i in range(1,10):\n    li.append(i)\nli",
      "metadata": {
        "trusted": true
      },
      "outputs": [
        {
          "execution_count": 27,
          "output_type": "execute_result",
          "data": {
            "text/plain": "[1, 2, 3, 4, 5, 6, 7, 8, 9]"
          },
          "metadata": {}
        }
      ],
      "execution_count": 27
    },
    {
      "cell_type": "markdown",
      "source": "**Абстракция списков**",
      "metadata": {}
    },
    {
      "cell_type": "code",
      "source": "n = 123\na = []\nfor i in range(n): a.append(i)\nprint(a)",
      "metadata": {
        "trusted": true
      },
      "outputs": [
        {
          "name": "stdout",
          "text": "[0, 1, 2, 3, 4, 5, 6, 7, 8, 9, 10, 11, 12, 13, 14, 15, 16, 17, 18, 19, 20, 21, 22, 23, 24, 25, 26, 27, 28, 29, 30, 31, 32, 33, 34, 35, 36, 37, 38, 39, 40, 41, 42, 43, 44, 45, 46, 47, 48, 49, 50, 51, 52, 53, 54, 55, 56, 57, 58, 59, 60, 61, 62, 63, 64, 65, 66, 67, 68, 69, 70, 71, 72, 73, 74, 75, 76, 77, 78, 79, 80, 81, 82, 83, 84, 85, 86, 87, 88, 89, 90, 91, 92, 93, 94, 95, 96, 97, 98, 99, 100, 101, 102, 103, 104, 105, 106, 107, 108, 109, 110, 111, 112, 113, 114, 115, 116, 117, 118, 119, 120, 121, 122]\n",
          "output_type": "stream"
        }
      ],
      "execution_count": 26
    },
    {
      "cell_type": "code",
      "source": "[i for i in range(10)] ## позволяет сделать цикл значительно проще",
      "metadata": {
        "trusted": true
      },
      "outputs": [
        {
          "execution_count": 30,
          "output_type": "execute_result",
          "data": {
            "text/plain": "[0, 1, 2, 3, 4, 5, 6, 7, 8, 9]"
          },
          "metadata": {}
        }
      ],
      "execution_count": 30
    },
    {
      "cell_type": "markdown",
      "source": "**Cловари**",
      "metadata": {}
    },
    {
      "cell_type": "markdown",
      "source": "**Словарь (dict)** представляет собой структуру данных (которая ещё называется ассоциативный массив), предназначенную для хранения произвольных объектов с доступом по ключу. Данные в словаре хранятся в формате ключ - значение.",
      "metadata": {}
    },
    {
      "cell_type": "code",
      "source": "d1 = dict()\nd2 = {}\nd3 = dict(Ivan=\"manager\", Mark=\"worker\")",
      "metadata": {
        "trusted": true
      },
      "outputs": [],
      "execution_count": 87
    },
    {
      "cell_type": "code",
      "source": "d3",
      "metadata": {
        "trusted": true
      },
      "outputs": [
        {
          "execution_count": 74,
          "output_type": "execute_result",
          "data": {
            "text/plain": "{'Ivan': 'manager', 'Mark': 'worker'}"
          },
          "metadata": {}
        }
      ],
      "execution_count": 74
    },
    {
      "cell_type": "code",
      "source": "dl = {\"Russia\":\"Moscow\", \"USA\":\"Washington\"} \ndl[\"China\"]=\"Beijing\"\nd1",
      "metadata": {
        "trusted": true
      },
      "outputs": [
        {
          "execution_count": 84,
          "output_type": "execute_result",
          "data": {
            "text/plain": "{}"
          },
          "metadata": {}
        }
      ],
      "execution_count": 84
    },
    {
      "cell_type": "code",
      "source": "#Методы словарей\nd2 = {\"Al\":\"123\", \"A2\":\"456\"}\nd2.clear()\nprint(d2)\n\nd2 = {\"Al\":\"123\", \"A2\":\"456\"}\nd3 = d2.copy()\nprint(d3.get(\"Al\"))\n\nprint(d3.keys())\n\nprint(d3.values())\n\nprint(d3.pop(\"A2\")) \nprint(d3)",
      "metadata": {
        "trusted": true
      },
      "outputs": [
        {
          "name": "stdout",
          "text": "{}\n123\ndict_keys(['Al', 'A2'])\ndict_values(['123', '456'])\n456\n{'Al': '123'}\n",
          "output_type": "stream"
        }
      ],
      "execution_count": 2
    },
    {
      "cell_type": "markdown",
      "source": "**Немного про функции**",
      "metadata": {}
    },
    {
      "cell_type": "markdown",
      "source": "Функция в python - объект, принимающий аргументы и возвращающий значение. Обычно функция определяется с помощью инструкции",
      "metadata": {}
    },
    {
      "cell_type": "code",
      "source": "def add(x, y): \n    return x + y",
      "metadata": {
        "trusted": true
      },
      "outputs": [],
      "execution_count": 92
    },
    {
      "cell_type": "code",
      "source": "add(5,6)",
      "metadata": {
        "trusted": true
      },
      "outputs": [
        {
          "execution_count": 93,
          "output_type": "execute_result",
          "data": {
            "text/plain": "11"
          },
          "metadata": {}
        }
      ],
      "execution_count": 93
    },
    {
      "cell_type": "code",
      "source": "def func(a, b, c=2): # с - необязаmельный аргумент \n    return a + b + c",
      "metadata": {
        "trusted": true
      },
      "outputs": [],
      "execution_count": 94
    },
    {
      "cell_type": "code",
      "source": "func(3, 4)",
      "metadata": {
        "trusted": true
      },
      "outputs": [
        {
          "execution_count": 95,
          "output_type": "execute_result",
          "data": {
            "text/plain": "9"
          },
          "metadata": {}
        }
      ],
      "execution_count": 95
    },
    {
      "cell_type": "markdown",
      "source": "Функция также может принимать переменное количество позиционных аргументов (аргументы, передаваемые в вызов последовательности (на определённых позициях), без указания их имён), тогда перед именем ставится *.",
      "metadata": {}
    },
    {
      "cell_type": "code",
      "source": "def func(*args):\n    return args",
      "metadata": {
        "trusted": true
      },
      "outputs": [],
      "execution_count": 96
    },
    {
      "cell_type": "code",
      "source": "a = func(1, 2, 3, \"abc\", '56')",
      "metadata": {
        "trusted": true
      },
      "outputs": [],
      "execution_count": 97
    },
    {
      "cell_type": "code",
      "source": "a",
      "metadata": {
        "trusted": true
      },
      "outputs": [
        {
          "execution_count": 99,
          "output_type": "execute_result",
          "data": {
            "text/plain": "(1, 2, 3, 'abc', '56')"
          },
          "metadata": {}
        }
      ],
      "execution_count": 99
    },
    {
      "cell_type": "markdown",
      "source": "**Диаграммы**",
      "metadata": {}
    },
    {
      "cell_type": "code",
      "source": "import random\nimport matplotlib.pyplot as plt\n\nx = [1.0,2.0,3.0]\ny = [1.0,5.0,1.0]\n\nsx = x[0]\nsy = y[0]\n\npx = []\npy = []\n\nfor i in range(1,100000):\n    r = random.randint(0, 2)\n    sx = (sx + x[r]) / 2\n    sy = (sy + y[r]) / 2    \n    px.append(sx)\n    py.append(sy)\n\nfig, ax = plt.subplots()\n\n# маркеры цветов 'b', 'g', 'r', 'c', 'm', 'y', 'k', 'w' , RGB: #00ff00\nax.scatter(px, py, c = 'black', s = 1)\nax.set_facecolor('white')\n\n# ax.grid()\n# ax.set_xlabel('')\nax.set_ylabel('')\nfig.set_figwidth(15)\nfig.set_figheight(10)\nplt.show()",
      "metadata": {
        "trusted": true
      },
      "outputs": [
        {
          "output_type": "display_data",
          "data": {
            "text/plain": "<Figure size 1500x1000 with 1 Axes>",
            "image/png": "[encoded data removed]"
          },
          "metadata": {}
        }
      ],
      "execution_count": 3
    },
    {
      "cell_type": "code",
      "source": "",
      "metadata": {},
      "outputs": [],
      "execution_count": null
    }
  ]
}